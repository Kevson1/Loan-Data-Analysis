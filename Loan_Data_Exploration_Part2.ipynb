{
 "cells": [
  {
   "cell_type": "markdown",
   "metadata": {
    "slideshow": {
     "slide_type": "slide"
    }
   },
   "source": [
    "# Effects of Borrower Characteristics on Loan Repayment"
   ]
  },
  {
   "cell_type": "markdown",
   "metadata": {
    "slideshow": {
     "slide_type": "slide"
    }
   },
   "source": [
    "## Investigation Overview\n",
    "\n",
    "In this investigation, I wanted to look at the characteristics of Loan Borrowers that could be used to predict their loan repayment behaviour. The main focus was on:\n",
    "> - Home ownership\n",
    "> - Monthly Income\n",
    "> - Credit Score\n",
    "> - Borrower State\n",
    "> - Employment Status\n",
    "\n",
    "## Dataset Overview\n",
    "\n",
    "The cleaned data consisted of Loan borrower information of 83,507 loan borrowers, with each entry having 15 attributes. The attributes include the above listed borrower traits of interest among others"
   ]
  },
  {
   "cell_type": "code",
   "execution_count": 1,
   "metadata": {
    "slideshow": {
     "slide_type": "skip"
    }
   },
   "outputs": [],
   "source": [
    "# import all packages and set plots to be embedded inline\n",
    "import numpy as np\n",
    "import pandas as pd\n",
    "import matplotlib.pyplot as plt\n",
    "import seaborn as sns\n",
    "import plotly.express as px\n",
    "\n",
    "%matplotlib inline\n",
    "\n",
    "# suppress warnings from final output\n",
    "import warnings\n",
    "warnings.simplefilter(\"ignore\")"
   ]
  },
  {
   "cell_type": "code",
   "execution_count": 2,
   "metadata": {
    "slideshow": {
     "slide_type": "skip"
    }
   },
   "outputs": [],
   "source": [
    "# load in the dataset into a pandas dataframe\n",
    "clean_loan_df = pd.read_csv('Datasets/clean_loan_data.csv')"
   ]
  },
  {
   "cell_type": "code",
   "execution_count": null,
   "metadata": {
    "slideshow": {
     "slide_type": "skip"
    }
   },
   "outputs": [],
   "source": [
    "# data wrangling, removing records with outliers in the stated monthly income column\n",
    "\n",
    "# Calculate the lower quartile and the upper quartile values.\n",
    "for salary in clean_loan_df.StatedMonthlyIncome:\n",
    "    q75, q25 = np.percentile(clean_loan_df.loc[:,'StatedMonthlyIncome'],[75,25])\n",
    "    \n",
    "    # Calculate the Interquartile Range\n",
    "    intr_qr = q75-q25\n",
    "    \n",
    "    # Calculate the Minimum and maximum possible values for the stated monthly income entries.\n",
    "    maxim = q75+(1.5*intr_qr)\n",
    "    minim = q75-(1.5*intr_qr)\n",
    "    \n",
    "    # Replace the outliers with np.nan\n",
    "    clean_loan_df.loc[clean_loan_df['StatedMonthlyIncome'] < minim,'StatedMonthlyIncome'] = np.nan\n",
    "    clean_loan_df.loc[clean_loan_df['StatedMonthlyIncome'] > maxim,'StatedMonthlyIncome'] = np.nan\n",
    "\n",
    "# Drop the records with null entries\n",
    "clean_loan_df.dropna(inplace=True)"
   ]
  },
  {
   "cell_type": "markdown",
   "metadata": {
    "slideshow": {
     "slide_type": "slide"
    }
   },
   "source": [
    "## Distribution of Stated Monthly Income\n",
    "`Stated Monthly Income` refers to the amount that a borrower indicated as the amount they receive as monthly payment from their occupation or employment opportunity."
   ]
  },
  {
   "cell_type": "code",
   "execution_count": null,
   "metadata": {
    "slideshow": {
     "slide_type": "subslide"
    }
   },
   "outputs": [],
   "source": [
    "# A Histogram of Stated Monthly Income\n",
    "sns.set_theme(style=\"whitegrid\")\n",
    "\n",
    "bins = np.arange(0, clean_loan_df.StatedMonthlyIncome.max()+500, 500)\n",
    "plt.hist(data = clean_loan_df, x = 'StatedMonthlyIncome', bins=bins);\n",
    "plt.title('A Histogram of the Stated Monthly Income', size = 18)\n",
    "plt.xlabel('Stated Monthly Income')\n",
    "plt.ylabel('Frequency');"
   ]
  },
  {
   "cell_type": "markdown",
   "metadata": {
    "slideshow": {
     "slide_type": "slide"
    }
   },
   "source": [
    "## Distribution of Borrowers in every state"
   ]
  },
  {
   "cell_type": "code",
   "execution_count": null,
   "metadata": {
    "slideshow": {
     "slide_type": "subslide"
    }
   },
   "outputs": [],
   "source": [
    "# Using the value_counts() function to view the number of borrowers per state.\n",
    "borrowers_by_state = clean_loan_df.BorrowerState.value_counts()\n",
    "\n",
    "# First convert the Series to a pandas dataframe.\n",
    "borrowers_by_state = borrowers_by_state.to_frame(name='borrower_population').reset_index()\n",
    "\n",
    "# Rename the column with the name index to \"State\"\n",
    "borrowers_by_state.rename(columns = {'index':'State'}, inplace=True)\n",
    "\n",
    "# Using the newly created dataframe, generate a heatmap indicating the population of borrowers in every state.\n",
    "fig = px.choropleth(borrowers_by_state,\n",
    "                   locations='State',\n",
    "                    locationmode='USA-states',\n",
    "                   scope = 'usa',\n",
    "                   color='borrower_population',\n",
    "                   color_continuous_scale=px.colors.sequential.Inferno_r)\n",
    "fig.update_layout(title_text = 'Borrower population by State',\n",
    "                  title_font_size = 22,\n",
    "                  title_font_color = 'black',\n",
    "                  title_x = 0.5)\n",
    "fig.show();"
   ]
  },
  {
   "cell_type": "markdown",
   "metadata": {
    "slideshow": {
     "slide_type": "slide"
    }
   },
   "source": [
    "## Number of Borrowers grouped by Occupation"
   ]
  },
  {
   "cell_type": "code",
   "execution_count": null,
   "metadata": {
    "slideshow": {
     "slide_type": "subslide"
    }
   },
   "outputs": [],
   "source": [
    "# Set the theme of the visualization\n",
    "sns.set_theme(style=\"whitegrid\")\n",
    "\n",
    "# Set the size of the visualization\n",
    "f, ax = plt.subplots(figsize=(9,20))\n",
    "\n",
    "# Set the color of the visualization\n",
    "base_color = sns.color_palette()[0]\n",
    "\n",
    "# Define the order in which the bars will appear in the visualization\n",
    "occupations_order = clean_loan_df.Occupation.value_counts().index\n",
    "\n",
    "# Visualize the bar graph.\n",
    "sns.countplot(data=clean_loan_df, y = 'Occupation', color = base_color, order=occupations_order);\n",
    "\n",
    "# Set the labels and plot title\n",
    "plt.title('A visualization of The Number of Borrowers in Every Listed Occupation')\n",
    "plt.xlabel('Population')\n",
    "plt.ylabel('Occupation');"
   ]
  },
  {
   "cell_type": "markdown",
   "metadata": {
    "slideshow": {
     "slide_type": "slide"
    }
   },
   "source": [
    "## Loan Borrowers grouped by Home Ownership"
   ]
  },
  {
   "cell_type": "code",
   "execution_count": null,
   "metadata": {
    "scrolled": true,
    "slideshow": {
     "slide_type": "subslide"
    }
   },
   "outputs": [],
   "source": [
    "# Set the theme of the visualization\n",
    "sns.set_theme(style=\"whitegrid\")\n",
    "\n",
    "# Set the size of the visualization\n",
    "f, ax = plt.subplots(figsize=(10,6))\n",
    "\n",
    "# Set the color of the visualization\n",
    "base_color = sns.color_palette()[0]\n",
    "\n",
    "# Define the order in which the bars will appear in the visualization\n",
    "arr_order = clean_loan_df.IsBorrowerHomeowner.value_counts().index\n",
    "\n",
    "# Visualize the bar graph.\n",
    "sns.countplot(data=clean_loan_df, x = 'IsBorrowerHomeowner', color = base_color, order=arr_order);\n",
    "\n",
    "ax.set_xticklabels(['Owned House', 'No House'], size=14)\n",
    "\n",
    "# Set the labels and plot title\n",
    "plt.title('Home Ownership status of Loan Borrowers', size = 22)\n",
    "plt.xlabel('Home Ownership Status', size = 18)\n",
    "plt.ylabel('Population', size = 18);"
   ]
  },
  {
   "cell_type": "markdown",
   "metadata": {
    "slideshow": {
     "slide_type": "slide"
    }
   },
   "source": [
    "## `Stated Monthly Salary` Versus `Montly Loan Payment`"
   ]
  },
  {
   "cell_type": "code",
   "execution_count": null,
   "metadata": {
    "slideshow": {
     "slide_type": "subslide"
    }
   },
   "outputs": [],
   "source": [
    "sns.regplot(data=clean_loan_df, x='StatedMonthlyIncome', y='MonthlyLoanPayment', truncate=False, x_jitter=0.7, scatter_kws={'alpha':1/20});\n",
    "plt.title('A scatter plot of stated monthly salary against monthly loan payment');"
   ]
  },
  {
   "cell_type": "markdown",
   "metadata": {
    "slideshow": {
     "slide_type": "slide"
    }
   },
   "source": [
    "## `Credit Score Mid_range` versus `Monthly Loan Payment`"
   ]
  },
  {
   "cell_type": "code",
   "execution_count": null,
   "metadata": {},
   "outputs": [],
   "source": [
    "sns.regplot(data=clean_loan_df, x='MonthlyLoanPayment', y='CreditScoreMid_range', truncate=False, y_jitter=0.7, scatter_kws={'alpha':1/20});\n",
    "plt.title('A scatter plot of Monthly Loan Payment against Credit Score Mid_range');"
   ]
  },
  {
   "cell_type": "markdown",
   "metadata": {
    "slideshow": {
     "slide_type": "slide"
    }
   },
   "source": [
    "## Monthly Loan Payment by Employment Status"
   ]
  },
  {
   "cell_type": "code",
   "execution_count": null,
   "metadata": {
    "scrolled": true,
    "slideshow": {
     "slide_type": "subslide"
    }
   },
   "outputs": [],
   "source": [
    "color = sns.color_palette()[0]\n",
    "sns.violinplot(data = clean_loan_df, y = 'EmploymentStatus', x = 'MonthlyLoanPayment', color=color)\n",
    "plt.title('Monthly Loan Payment by Employment Status');"
   ]
  },
  {
   "cell_type": "code",
   "execution_count": null,
   "metadata": {},
   "outputs": [],
   "source": [
    "!jupyter nbconvert Loan_Data_Exploration_Part2.ipynb --to slides --post serve --no-input --no-prompt"
   ]
  },
  {
   "cell_type": "code",
   "execution_count": null,
   "metadata": {},
   "outputs": [],
   "source": []
  }
 ],
 "metadata": {
  "celltoolbar": "Slideshow",
  "kernelspec": {
   "display_name": "Python 3 (ipykernel)",
   "language": "python",
   "name": "python3"
  },
  "language_info": {
   "codemirror_mode": {
    "name": "ipython",
    "version": 3
   },
   "file_extension": ".py",
   "mimetype": "text/x-python",
   "name": "python",
   "nbconvert_exporter": "python",
   "pygments_lexer": "ipython3",
   "version": "3.9.12"
  }
 },
 "nbformat": 4,
 "nbformat_minor": 2
}
